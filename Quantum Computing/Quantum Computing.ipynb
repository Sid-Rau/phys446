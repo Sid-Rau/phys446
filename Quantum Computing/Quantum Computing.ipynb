{
 "cells": [
  {
   "cell_type": "markdown",
   "metadata": {},
   "source": [
    "# Dirac Notation"
   ]
  },
  {
   "cell_type": "code",
   "execution_count": 1,
   "metadata": {},
   "outputs": [],
   "source": [
    "import numpy as np\n",
    "import matplotlib.pyplot as plt\n",
    "import timeit\n",
    "\n",
    "def PrettyPrintBinary(myState):\n",
    "    output = f'('\n",
    "    for state in myState:\n",
    "        output= output + str(state[0]) + ' |' + state[1] + '> + '\n",
    "    output=output[:-3]+')'\n",
    "    print(output)\n",
    "\n",
    "def PrettyPrintInteger(myState):\n",
    "    output = f'('\n",
    "    for state in myState:\n",
    "        output= output + str(state[0]) + ' |' + str(int(state[1],2)) + '> + '\n",
    "    output=output[:-3]+')'\n",
    "    print(output)"
   ]
  },
  {
   "cell_type": "code",
   "execution_count": 2,
   "metadata": {},
   "outputs": [
    {
     "name": "stdout",
     "output_type": "stream",
     "text": [
      "(0.31622776601683794j |101> + 0.7071067811865476 |000> + -0.6324555320336759 |010>)\n",
      "(0.31622776601683794j |5> + 0.7071067811865476 |0> + -0.6324555320336759 |2>)\n"
     ]
    }
   ],
   "source": [
    "myState2=[\n",
    "  (np.sqrt(0.1)*1.j, '101'),\n",
    "  (np.sqrt(0.5), '000') ,\n",
    "  (-np.sqrt(0.4), '010' )\n",
    "]\n",
    "PrettyPrintBinary(myState2)\n",
    "PrettyPrintInteger(myState2)"
   ]
  },
  {
   "cell_type": "code",
   "execution_count": 3,
   "metadata": {},
   "outputs": [
    {
     "name": "stdout",
     "output_type": "stream",
     "text": [
      "[0.7071067811865476, 0, -0.6324555320336759, 0, 0, 0.31622776601683794j, 0, 0]\n",
      "[(0.7071067811865476, '000'), (-0.6324555320336759, '010'), (0.31622776601683794j, '101')]\n"
     ]
    }
   ],
   "source": [
    "def DiracToVec(myState):\n",
    "    vec = [0] * 2**(len(myState[0][1]))\n",
    "    for state in myState:\n",
    "        idx = int(state[1],2)\n",
    "        vec[idx]=state[0]\n",
    "    return vec\n",
    "\n",
    "def VecToDirac(myVec):\n",
    "    output = []\n",
    "    bin_size = int(np.ceil(np.log2(len(myVec))))\n",
    "    for i,state in enumerate(myVec):\n",
    "        if state != 0:\n",
    "            output.append((state,format(i,f'0{bin_size}b')))    \n",
    "    return output\n",
    "print(DiracToVec(myState2))\n",
    "print(VecToDirac(DiracToVec(myState2)))"
   ]
  },
  {
   "cell_type": "markdown",
   "metadata": {},
   "source": [
    "# Quantum Simulators\n",
    "## Simulator S"
   ]
  },
  {
   "cell_type": "code",
   "execution_count": 4,
   "metadata": {},
   "outputs": [
    {
     "name": "stdout",
     "output_type": "stream",
     "text": [
      "(-0.7071067811865476 |11> + 0.31622776601683794 |00> + 0.6324555320336759 |01>)\n",
      "((-0.7071067811865476+4j) |11> + 0.31622776601683794 |00> + 0.6324555320336759 |01>)\n"
     ]
    }
   ],
   "source": [
    "import itertools\n",
    "\n",
    "def AddDuplicate(myState):\n",
    "    seen=dict()\n",
    "    for state in myState:\n",
    "        if state[1] in seen:\n",
    "            seen[state[1]]+=state[0]\n",
    "        else: seen[state[1]]=state[0]\n",
    "    return [(amplitude,state) for (state,amplitude) in list(seen.items()) if amplitude!=0]\n",
    "\n",
    "myState=[\n",
    "  (-np.sqrt(0.125), '11'),\n",
    "  (np.sqrt(0.1), '00'),\n",
    "  (np.sqrt(0.4), '01'),\n",
    "  (-np.sqrt(0.125), '11')\n",
    "]\n",
    "\n",
    "PrettyPrintBinary(AddDuplicate(myState))\n",
    "\n",
    "myState=[\n",
    "  (1j-np.sqrt(0.125), '11'),\n",
    "  (np.sqrt(0.1), '00'),\n",
    "  (np.sqrt(0.4), '01'),\n",
    "  (3j-np.sqrt(0.125), '11')\n",
    "]\n",
    "PrettyPrintBinary(AddDuplicate(myState))\n",
    "\n"
   ]
  },
  {
   "cell_type": "code",
   "execution_count": 5,
   "metadata": {},
   "outputs": [
    {
     "name": "stdout",
     "output_type": "stream",
     "text": [
      "(0.7071067811865475 |0> + -0.7071067811865475 |1>)\n"
     ]
    }
   ],
   "source": [
    "def bitFlip(idx, bitstring):\n",
    "    notState = list(bitstring)\n",
    "    notState[idx] = '1' if bitstring[idx]=='0' else '0'\n",
    "    return ''.join(notState)  \n",
    "\n",
    "def H(wire, inputState):\n",
    "    outputState = [hadamardGate(wire, state) for state in inputState]\n",
    "    return AddDuplicate(list(itertools.chain(*outputState)))\n",
    "def hadamardGate(wire, state):\n",
    "    notState = bitFlip(wire,state[1])\n",
    "    if(state[1][wire]=='0'):\n",
    "        return (1/np.sqrt(2)*state[0], state[1]),(1/np.sqrt(2)*state[0],notState)\n",
    "    else:\n",
    "        return (1/np.sqrt(2)*state[0], notState),(-1/np.sqrt(2)*state[0],state[1])\n",
    "    \n",
    "PrettyPrintBinary(H(0,[(np.sqrt(0),'0'),(np.sqrt(1),'1')]))"
   ]
  },
  {
   "cell_type": "code",
   "execution_count": 6,
   "metadata": {},
   "outputs": [
    {
     "name": "stdout",
     "output_type": "stream",
     "text": [
      "(0.7071067811865475 |0> + (4.329780281177466e-17+0.7071067811865475j) |1>)\n"
     ]
    }
   ],
   "source": [
    "def Phase(wire, theta, inputState):\n",
    "    # Apply phase gate to each state in inputState\n",
    "    return [phaseGate(wire, theta, state) for state in inputState]\n",
    "def phaseGate(wire, theta, state):\n",
    "    return (state[0], state[1]) if state[1][wire] == '0' else (state[0]*np.exp(1j*theta), state[1])\n",
    "\n",
    "PrettyPrintBinary(Phase(0,np.pi/2,[(1/np.sqrt(2),'0'),(1/np.sqrt(2),'1')]))"
   ]
  },
  {
   "cell_type": "code",
   "execution_count": 7,
   "metadata": {},
   "outputs": [
    {
     "name": "stdout",
     "output_type": "stream",
     "text": [
      "(0.5 |00> + 0.5 |01> + 0.31622776601683794 |10> + 0.6324555320336759 |11>)\n",
      "(0.5 |00> + 0.5 |01> + 0.31622776601683794 |11> + 0.6324555320336759 |10>)\n"
     ]
    }
   ],
   "source": [
    "def CNOT(controlWire,notWire,inputState):\n",
    "    return [cnotGate(controlWire,notWire,state) for state in inputState]\n",
    "def cnotGate(controlWire,notWire,state):\n",
    "    return state if state[1][controlWire]=='0' else (state[0],bitFlip(notWire,state[1]))\n",
    "\n",
    "test = [\n",
    "    (np.sqrt(.25),'00'),\n",
    "    (np.sqrt(.25),'01'),\n",
    "    (np.sqrt(.1),'10'),\n",
    "    (np.sqrt(.4),'11')\n",
    "]\n",
    "PrettyPrintBinary(test)\n",
    "PrettyPrintBinary(CNOT(0,1,test))"
   ]
  },
  {
   "cell_type": "code",
   "execution_count": 8,
   "metadata": {},
   "outputs": [],
   "source": [
    "def ReadInputString(myInput_lines):\n",
    "    myInput=[]\n",
    "    myInput_lines=myInput_lines.split('\\n')\n",
    "    myInput_lines = [ i for i in myInput_lines if i!='']\n",
    "    numberOfWires=int(myInput_lines[0])\n",
    "    for line in myInput_lines[1:]:\n",
    "        myInput.append(line.split())\n",
    "    return (numberOfWires,myInput)\n",
    "\n",
    "def RunCircuitS(numWires,circuitList):\n",
    "    state = [(1,'0'*numWires)]\n",
    "    for element in circuitList:\n",
    "        if element[0]=='H':\n",
    "            state = H(int(element[1]),state)\n",
    "        elif element[0]=='P':\n",
    "            state = Phase(int(element[1]),float(element[2]),state)\n",
    "        elif element[0]=='CNOT':\n",
    "            state = CNOT(int(element[1]),int(element[2]),state)\n",
    "    return state\n"
   ]
  },
  {
   "cell_type": "code",
   "execution_count": 9,
   "metadata": {},
   "outputs": [
    {
     "name": "stdout",
     "output_type": "stream",
     "text": [
      "(0.4999999999999999 |0000> + 0.4999999999999999 |0011> + (0.4502235511763384+0.21748276705561506j) |1100> + (0.4502235511763384+0.21748276705561506j) |1111>)\n",
      "Passed example.circuit?:  True\n"
     ]
    }
   ],
   "source": [
    "# TEST 1\n",
    "numberOfWires,myInput=ReadInputString(open('example.circuit').read())\n",
    "test = RunCircuitS(numberOfWires,myInput)\n",
    "PrettyPrintBinary(test)\n",
    "print(\"Passed example.circuit?: \", test==[((0.4999999999999999+0j), '0000'),\n",
    "                                          ((0.4999999999999999+0j), '0011'),\n",
    "                                          ((0.4502235511763384+0.21748276705561506j), '1100'),\n",
    "                                          ((0.4502235511763384+0.21748276705561506j), '1111')])"
   ]
  },
  {
   "cell_type": "code",
   "execution_count": 10,
   "metadata": {},
   "outputs": [
    {
     "name": "stdout",
     "output_type": "stream",
     "text": [
      "((0.9776682445628027+0.14776010333066972j) |000> + (0.022331755437197065-0.14776010333066972j) |101>)\n"
     ]
    }
   ],
   "source": [
    "# TEST 2\n",
    "# Output should be \n",
    "# (0.977668244563+0.147760103331j)|000  + \n",
    "# (0.0223317554372-0.147760103331j)|101\n",
    "numberOfWires,myInput=ReadInputString('''\n",
    "3\n",
    "H 1\n",
    "H 2\n",
    "P 2 0.3\n",
    "CNOT 2 1\n",
    "H 1\n",
    "H 2\n",
    "CNOT 2 0\n",
    "''')\n",
    "\n",
    "test = RunCircuitS(numberOfWires,myInput)\n",
    "PrettyPrintBinary(test)"
   ]
  },
  {
   "cell_type": "code",
   "execution_count": 11,
   "metadata": {},
   "outputs": [],
   "source": [
    "# TODO: RUN rand.circuit"
   ]
  },
  {
   "cell_type": "markdown",
   "metadata": {},
   "source": [
    "## Simulator M\n",
    "### SImulator M-a"
   ]
  },
  {
   "cell_type": "code",
   "execution_count": 12,
   "metadata": {},
   "outputs": [],
   "source": [
    "def tensorMe(matrices):\n",
    "    result = matrices[0]\n",
    "    for matrix in matrices[1:]:\n",
    "        result = np.kron(result, matrix)\n",
    "    return result\n",
    "\n",
    "def HadamardArray(wire, numWires):\n",
    "    H_matrix = 1/np.sqrt(2)*np.array([[1, 1], [1, -1]])\n",
    "    return tensorMe([np.identity(2)] * wire + [H_matrix] + [np.identity(2)]*(numWires-wire-1))\n",
    "\n",
    "def PhaseArray(wire,theta,numWires):\n",
    "    P_matrix = np.array([[1,0],[0,np.exp(theta*1j)]])\n",
    "    return tensorMe([np.identity(2)] * wire + [P_matrix] + [np.identity(2)]*(numWires-wire-1))\n",
    "\n",
    "def CNOTArray(controlWire, notWire, numWires):\n",
    "    C_matrix = np.array([[1, 0, 0, 0],  # bit 0 is control bit, bit 1 is not bit\n",
    "                         [0, 1, 0, 0],\n",
    "                         [0, 0, 0, 1],\n",
    "                         [0, 0, 1, 0]])\n",
    "    C_matrix_down = np.array([[1, 0, 0, 0],  # bit 0 is control bit, bit 1 is not bit\n",
    "                              [0, 0, 0, 1],                              \n",
    "                              [0, 0, 1, 0],\n",
    "                              [0, 1, 0, 0]])\n",
    "    if controlWire < notWire:\n",
    "        return tensorMe([np.identity(2)] * controlWire + [C_matrix] + [np.identity(2)] * (numWires - controlWire - 2))\n",
    "    else:\n",
    "        return tensorMe([np.identity(2)] * notWire + [C_matrix_down] + [np.identity(2)] * (numWires - notWire - 2))\n",
    "\n",
    "state = np.array([[x] for x in range(8)])\n",
    "\n",
    "def RunCircuitMa(numWires, circuitList):\n",
    "    circuit_matrix = np.identity(2**numWires, dtype=complex)\n",
    "    for element in circuitList:\n",
    "        if element[0] == 'H':\n",
    "            circuit_matrix = HadamardArray(int(element[1]), numWires) @ circuit_matrix\n",
    "        elif element[0] == 'P':\n",
    "            circuit_matrix = PhaseArray(int(element[1]), float(element[2]), numWires) @ circuit_matrix\n",
    "        elif element[0] == 'CNOT':\n",
    "            circuit_matrix = CNOTArray(int(element[1]), int(element[2]), numWires) @ circuit_matrix\n",
    "    state = np.array([[1] + [0] * (2**numWires - 1)], dtype=complex).T\n",
    "    final_state = circuit_matrix @ state\n",
    "    return VecToDirac(final_state.flatten())\n"
   ]
  },
  {
   "cell_type": "code",
   "execution_count": 13,
   "metadata": {},
   "outputs": [
    {
     "name": "stdout",
     "output_type": "stream",
     "text": [
      "((0.4999999999999999+0j) |0000> + (0.4999999999999999+0j) |0011> + (0.4502235511763384+0.21748276705561506j) |1100> + (0.4502235511763384+0.21748276705561506j) |1111>)\n",
      "Passed example.circuit?:  True\n"
     ]
    }
   ],
   "source": [
    "#TEST 1\n",
    "numberOfWires,myInput=ReadInputString(open('example.circuit').read())\n",
    "test = RunCircuitMa(numberOfWires,myInput)\n",
    "PrettyPrintBinary(test)\n",
    "print(\"Passed example.circuit?: \", test==[((0.4999999999999999+0j), '0000'), \n",
    "                                          ((0.4999999999999999+0j), '0011'), \n",
    "                                          ((0.4502235511763384+0.21748276705561506j), '1100'), \n",
    "                                          ((0.4502235511763384+0.21748276705561506j), '1111')])"
   ]
  },
  {
   "cell_type": "code",
   "execution_count": 14,
   "metadata": {},
   "outputs": [
    {
     "name": "stdout",
     "output_type": "stream",
     "text": [
      "((0.9776682445628027+0.14776010333066972j) |000> + (0.022331755437197065-0.14776010333066972j) |001>)\n"
     ]
    }
   ],
   "source": [
    "# TEST 2\n",
    "# Output should be \n",
    "# (0.977668244563+0.147760103331j)|000>  + \n",
    "# (0.0223317554372-0.147760103331j)|101>\n",
    "numberOfWires,myInput=ReadInputString('''\n",
    "3\n",
    "H 1\n",
    "H 2\n",
    "P 2 0.3\n",
    "CNOT 2 1\n",
    "H 1\n",
    "H 2\n",
    "CNOT 2 0\n",
    "''')\n",
    "\n",
    "test = RunCircuitMa(numberOfWires,myInput)\n",
    "PrettyPrintBinary(test)"
   ]
  },
  {
   "cell_type": "code",
   "execution_count": 15,
   "metadata": {},
   "outputs": [],
   "source": [
    "#TODO: test rand.circuit\n"
   ]
  },
  {
   "cell_type": "markdown",
   "metadata": {},
   "source": [
    "### Simulator M-b"
   ]
  },
  {
   "cell_type": "code",
   "execution_count": 16,
   "metadata": {},
   "outputs": [],
   "source": [
    "def RunCircuitMb(numWires, circuitList):\n",
    "    state = np.array([[1] + [0]*(2**numWires - 1)], dtype=complex).T\n",
    "    for element in circuitList:\n",
    "        if element[0]=='H':\n",
    "            state = HadamardArray(int(element[1]),numWires) @ state\n",
    "        elif element[0]=='P':\n",
    "            state = PhaseArray(int(element[1]),float(element[2]),numWires) @ state\n",
    "        elif element[0]=='CNOT':\n",
    "            state = CNOTArray(int(element[1]),int(element[2]),numWires) @ state\n",
    "    return VecToDirac(state.flatten())"
   ]
  },
  {
   "cell_type": "code",
   "execution_count": 17,
   "metadata": {},
   "outputs": [
    {
     "name": "stdout",
     "output_type": "stream",
     "text": [
      "((0.4999999999999999+0j) |0000> + (0.4999999999999999+0j) |0011> + (0.4502235511763384+0.21748276705561506j) |1100> + (0.4502235511763384+0.21748276705561506j) |1111>)\n",
      "Passed example.circuit?:  True\n"
     ]
    }
   ],
   "source": [
    "#TEST 1\n",
    "numberOfWires,myInput=ReadInputString(open('example.circuit').read())\n",
    "test = RunCircuitMb(numberOfWires,myInput)\n",
    "PrettyPrintBinary(test)\n",
    "print(\"Passed example.circuit?: \", test==[((0.4999999999999999+0j), '0000'), \n",
    "                                          ((0.4999999999999999+0j), '0011'), \n",
    "                                          ((0.4502235511763384+0.21748276705561506j), '1100'), \n",
    "                                          ((0.4502235511763384+0.21748276705561506j), '1111')])"
   ]
  },
  {
   "cell_type": "code",
   "execution_count": 18,
   "metadata": {},
   "outputs": [
    {
     "name": "stdout",
     "output_type": "stream",
     "text": [
      "((0.9776682445628027+0.14776010333066972j) |000> + (0.022331755437197065-0.14776010333066972j) |001>)\n"
     ]
    }
   ],
   "source": [
    "\n",
    "# TEST 2\n",
    "# Output should be \n",
    "# (0.977668244563+0.147760103331j)|000>  + \n",
    "# (0.0223317554372-0.147760103331j)|101>\n",
    "numberOfWires,myInput=ReadInputString('''\n",
    "3\n",
    "H 1\n",
    "H 2\n",
    "P 2 0.3\n",
    "CNOT 2 1\n",
    "H 1\n",
    "H 2\n",
    "CNOT 2 0\n",
    "''')\n",
    "\n",
    "test = RunCircuitMb(numberOfWires,myInput)\n",
    "PrettyPrintBinary(test)\n"
   ]
  },
  {
   "cell_type": "code",
   "execution_count": 19,
   "metadata": {},
   "outputs": [],
   "source": [
    "#TODO: test rand.circuit\n"
   ]
  },
  {
   "cell_type": "markdown",
   "metadata": {},
   "source": [
    "## Computational Complexity"
   ]
  },
  {
   "cell_type": "code",
   "execution_count": 20,
   "metadata": {},
   "outputs": [],
   "source": [
    "def genRandCircuit(numWires,numGates=10):\n",
    "    circuitList = []\n",
    "    for i in range(numGates):\n",
    "        gate = np.random.randint(0, 3)\n",
    "        match gate:\n",
    "            case 0: \n",
    "                gate = 'H'\n",
    "                wire = np.random.randint(0, numWires)\n",
    "                circuitList.append([gate, wire])\n",
    "            case 1: \n",
    "                gate = 'P'\n",
    "                wire = np.random.randint(0, numWires)\n",
    "                theta = np.random.random() * 2 * np.pi\n",
    "                circuitList.append([gate, wire, theta])\n",
    "            case 2:\n",
    "                if numWires<2: continue \n",
    "                gate = \"CNOT\"\n",
    "                controlWire = np.random.randint(0, numWires)\n",
    "                if controlWire==0 : notWire = 1\n",
    "                elif controlWire == numWires-1: notWire = controlWire-1\n",
    "                else:\n",
    "                    notWire = controlWire + np.random.randint(-1,2)\n",
    "                    while(notWire==controlWire): notWire = controlWire + np.random.randint(-1,2)\n",
    "                circuitList.append([gate, controlWire, notWire])\n",
    "    return circuitList"
   ]
  },
  {
   "cell_type": "code",
   "execution_count": 21,
   "metadata": {},
   "outputs": [
    {
     "name": "stdout",
     "output_type": "stream",
     "text": [
      "Simulator S qubits completed:  1\n",
      "Simulator S qubits completed:  2\n",
      "Simulator S qubits completed:  3\n",
      "Simulator S qubits completed:  4\n",
      "Simulator S qubits completed:  5\n",
      "Simulator S qubits completed:  6\n",
      "Simulator S qubits completed:  7\n",
      "Simulator S qubits completed:  8\n",
      "Simulator S qubits completed:  9\n",
      "Simulator S qubits completed:  10\n",
      "Simulator S qubits completed:  11\n",
      "Simulator S qubits completed:  12\n",
      "Simulator S qubits completed:  13\n",
      "Simulator S qubits completed:  14\n",
      "Simulator S qubits completed:  15\n",
      "Simulator S qubits completed:  16\n",
      "Simulator S qubits completed:  17\n",
      "Simulator S qubits completed:  18\n",
      "Simulator S qubits completed:  19\n",
      "Simulator S qubits completed:  20\n",
      "Simulator S qubits completed:  21\n",
      "Simulator S qubits completed:  22\n",
      "Simulator S qubits completed:  23\n",
      "Simulator S qubits completed:  24\n",
      "Simulator S qubits completed:  25\n",
      "Simulator S qubits completed:  26\n",
      "Simulator S qubits completed:  27\n",
      "Simulator S qubits completed:  28\n",
      "Simulator S qubits completed:  29\n",
      "Simulator S qubits completed:  30\n",
      "Simulator S qubits completed:  31\n",
      "Simulator S qubits completed:  32\n",
      "Simulator S qubits completed:  33\n",
      "Simulator S qubits completed:  34\n",
      "Simulator S qubits completed:  35\n",
      "Simulator S qubits completed:  36\n",
      "Simulator S qubits completed:  37\n",
      "Simulator S qubits completed:  38\n",
      "Simulator S qubits completed:  39\n",
      "Simulator S qubits completed:  40\n",
      "Simulator S qubits completed:  41\n",
      "Simulator S qubits completed:  42\n",
      "Simulator S qubits completed:  43\n",
      "Simulator S qubits completed:  44\n",
      "Simulator S qubits completed:  45\n",
      "Simulator S qubits completed:  46\n",
      "Simulator S qubits completed:  47\n",
      "Simulator S qubits completed:  48\n",
      "Simulator S qubits completed:  49\n",
      "Simulator S qubits completed:  50\n",
      "Simulator S qubits completed:  51\n",
      "Simulator S qubits completed:  52\n",
      "Simulator S qubits completed:  53\n",
      "Simulator S qubits completed:  54\n",
      "Simulator S qubits completed:  55\n",
      "Simulator S qubits completed:  56\n",
      "Simulator S qubits completed:  57\n",
      "Simulator S qubits completed:  58\n",
      "Simulator S qubits completed:  59\n",
      "Simulator S qubits completed:  60\n"
     ]
    }
   ],
   "source": [
    "circuits = [genRandCircuit(x) for x in range(1, 61)]\n",
    "S_times = np.zeros(60)\n",
    "for numWires in range(1, 61):\n",
    "    S_times[numWires - 1] = timeit.timeit(lambda numWires=numWires: RunCircuitS(numWires, circuits[numWires - 1]), number=1)\n",
    "    print(\"Simulator S qubits completed: \", numWires)"
   ]
  },
  {
   "cell_type": "code",
   "execution_count": 22,
   "metadata": {},
   "outputs": [
    {
     "name": "stdout",
     "output_type": "stream",
     "text": [
      "Simulator M-a qubits completed:  1\n",
      "Simulator M-a qubits completed:  2\n",
      "Simulator M-a qubits completed:  3\n",
      "Simulator M-a qubits completed:  4\n",
      "Simulator M-a qubits completed:  5\n",
      "Simulator M-a qubits completed:  6\n",
      "Simulator M-a qubits completed:  7\n",
      "Simulator M-a qubits completed:  8\n"
     ]
    },
    {
     "name": "stdout",
     "output_type": "stream",
     "text": [
      "Simulator M-a qubits completed:  9\n",
      "Simulator M-a qubits completed:  10\n",
      "Simulator M-a qubits completed:  11\n",
      "Simulator M-a qubits completed:  12\n"
     ]
    }
   ],
   "source": [
    "Ma_times = np.zeros(12)\n",
    "for numWires in range(1,13):\n",
    "    Ma_times[numWires-1] = timeit.timeit(lambda: RunCircuitMa(numWires, circuits[numWires-1]), number=1)\n",
    "    print(\"Simulator M-a qubits completed: \",numWires)"
   ]
  },
  {
   "cell_type": "code",
   "execution_count": 23,
   "metadata": {},
   "outputs": [
    {
     "name": "stdout",
     "output_type": "stream",
     "text": [
      "Simulator M-b qubits completed:  1\n",
      "Simulator M-b qubits completed:  2\n",
      "Simulator M-b qubits completed:  3\n",
      "Simulator M-b qubits completed:  4\n",
      "Simulator M-b qubits completed:  5\n",
      "Simulator M-b qubits completed:  6\n",
      "Simulator M-b qubits completed:  7\n",
      "Simulator M-b qubits completed:  8\n",
      "Simulator M-b qubits completed:  9\n",
      "Simulator M-b qubits completed:  10\n",
      "Simulator M-b qubits completed:  11\n",
      "Simulator M-b qubits completed:  12\n",
      "Simulator M-b qubits completed:  13\n"
     ]
    }
   ],
   "source": [
    "Mb_times = np.zeros(13)\n",
    "for numWires in range(1,14):\n",
    "    Mb_times[numWires-1] = timeit.timeit(lambda: RunCircuitMb(numWires, circuits[numWires-1]), number=1)\n",
    "    print(\"Simulator M-b qubits completed: \",numWires)"
   ]
  },
  {
   "cell_type": "code",
   "execution_count": 24,
   "metadata": {},
   "outputs": [
    {
     "data": {
      "image/png": "[encoded data removed]",
      "text/plain": [
       "<Figure size 640x480 with 1 Axes>"
      ]
     },
     "metadata": {},
     "output_type": "display_data"
    }
   ],
   "source": [
    "plt.plot(range(1,61),S_times,label=\"Simulator S\",marker='o')\n",
    "plt.plot(range(1,13),Ma_times,label=\"Simulator Ma\",marker='o')\n",
    "plt.plot(range(1,14),Mb_times[:13],label=\"Simulator Mb\",marker='o')\n",
    "plt.xlabel(\"qubits\")\n",
    "plt.ylabel(\"Time(seconds)\")\n",
    "plt.title(\"Computational Complexity of QC Simulators\")\n",
    "plt.legend()\n",
    "plt.savefig('Computational Complexity Plot')\n",
    "plt.show()"
   ]
  },
  {
   "cell_type": "markdown",
   "metadata": {},
   "source": [
    "## Measuring and Input\n",
    "### Measuring"
   ]
  },
  {
   "cell_type": "code",
   "execution_count": 25,
   "metadata": {},
   "outputs": [
    {
     "name": "stdout",
     "output_type": "stream",
     "text": [
      "(-0.7071j |3> + (0.7071+0j) |6>)\n"
     ]
    }
   ],
   "source": [
    "def FileToState(filename):\n",
    "    myInput_lines = open(filename).read()\n",
    "    myInput=[]\n",
    "    myInput_lines=myInput_lines.split('\\n')\n",
    "    myInput_lines = [ i for i in myInput_lines if i!='']\n",
    "    for line in myInput_lines:\n",
    "        myInput.append(line.split())\n",
    "    myInput = [float(real) + float(imag)*1j for real,imag in myInput]\n",
    "    return VecToDirac(myInput)\n",
    "PrettyPrintInteger(FileToState(\"filetostatetest.txt\"))    "
   ]
  },
  {
   "cell_type": "code",
   "execution_count": 26,
   "metadata": {},
   "outputs": [],
   "source": [
    "def Measure(state):\n",
    "    num = np.random.random()\n",
    "    idx = -1\n",
    "    while(num>=0):\n",
    "        idx+=1\n",
    "        num = num - abs(state[idx][0])**2\n",
    "    return(state[idx][1])\n",
    "\n",
    "def ParseCircuit(InputString: str):\n",
    "    if \".circuit\" in InputString:\n",
    "        numWires,circuitList = ReadInputString(open(InputString).read())\n",
    "    else: \n",
    "        numWires,circuitList = ReadInputString(InputString)\n",
    "    initState = [(1.,'0'*numWires)]\n",
    "    if circuitList[0][0]==\"INITSTATE\":\n",
    "        if circuitList[0][1]==\"FILE\":\n",
    "            initState = FileToState(circuitList[0][2])\n",
    "        elif circuitList[0][1]==\"BASIS\":\n",
    "            initState = [(1.,circuitList[0][2][1:-1])]\n",
    "        circuitList = circuitList[1:]\n",
    "    return numWires, initState, circuitList"
   ]
  },
  {
   "cell_type": "code",
   "execution_count": 27,
   "metadata": {},
   "outputs": [],
   "source": [
    "def SimulatorS(InputString):\n",
    "    numWires,state,circuitList = ParseCircuit(InputString)\n",
    "    for element in circuitList:\n",
    "        if element[0]=='H':\n",
    "            state = H(int(element[1]),state)    \n",
    "        elif element[0]=='P':\n",
    "            state = Phase(int(element[1]),float(element[2]),state)\n",
    "        elif element[0]=='CNOT':\n",
    "            state = CNOT(int(element[1]),int(element[2]),state)\n",
    "        elif element[0]=='MEASURE':\n",
    "            return Measure(state)\n",
    "    return state"
   ]
  },
  {
   "cell_type": "code",
   "execution_count": 28,
   "metadata": {},
   "outputs": [],
   "source": [
    "dist = []\n",
    "for i in range(10000):\n",
    "    result = SimulatorS(\"measure.circuit\")\n",
    "    dist.append(int(result, 2))"
   ]
  },
  {
   "cell_type": "code",
   "execution_count": 29,
   "metadata": {},
   "outputs": [
    {
     "data": {
      "image/png": "[encoded data removed]",
      "text/plain": [
       "<Figure size 640x480 with 1 Axes>"
      ]
     },
     "metadata": {},
     "output_type": "display_data"
    },
    {
     "data": {
      "image/png": "[encoded data removed]",
      "text/plain": [
       "<Figure size 640x480 with 1 Axes>"
      ]
     },
     "metadata": {},
     "output_type": "display_data"
    }
   ],
   "source": [
    "plt.hist(dist, bins=range(2**numberOfWires + 1), align='left')\n",
    "plt.xlabel('State')\n",
    "plt.ylabel('Frequency')\n",
    "plt.title('Measurement Distribution: Simulator S')\n",
    "plt.show()\n",
    "\n",
    "numberOfWires,initstate,circuitList = ParseCircuit(\"measure.circuit\")\n",
    "probabilities = [abs(x)**2 for x in DiracToVec(RunCircuitS(numberOfWires,circuitList))]\n",
    "plt.bar(range(len(probabilities)),probabilities)\n",
    "plt.title(\"Probability Distribution\")\n",
    "plt.xlabel('State')\n",
    "plt.ylabel('Probability')\n",
    "plt.show()"
   ]
  },
  {
   "cell_type": "code",
   "execution_count": 30,
   "metadata": {},
   "outputs": [],
   "source": [
    "def SimulatorMa(InputString):\n",
    "    numWires,state,circuitList = ParseCircuit(InputString)\n",
    "    circuit_matrix = np.identity(2**numWires, dtype=complex)\n",
    "    for element in circuitList:\n",
    "        if element[0] == 'H':\n",
    "            circuit_matrix = HadamardArray(int(element[1]), numWires) @ circuit_matrix\n",
    "        elif element[0] == 'P':\n",
    "            circuit_matrix = PhaseArray(int(element[1]), float(element[2]), numWires) @ circuit_matrix\n",
    "        elif element[0] == 'CNOT':\n",
    "            circuit_matrix = CNOTArray(int(element[1]), int(element[2]), numWires) @ circuit_matrix\n",
    "    state = np.array(DiracToVec(state)).T\n",
    "    final_state = circuit_matrix @ state\n",
    "    if circuitList[-1][0]=='MEASURE': \n",
    "        return Measure(VecToDirac(final_state.flatten()))\n",
    "    return VecToDirac(final_state.flatten())"
   ]
  },
  {
   "cell_type": "code",
   "execution_count": 31,
   "metadata": {},
   "outputs": [],
   "source": [
    "dist = []\n",
    "for i in range(1000):\n",
    "    result = SimulatorMa(\"measure.circuit\")\n",
    "    dist.append(int(result, 2))"
   ]
  },
  {
   "cell_type": "code",
   "execution_count": 32,
   "metadata": {},
   "outputs": [
    {
     "data": {
      "image/png": "[encoded data removed]",
      "text/plain": [
       "<Figure size 640x480 with 1 Axes>"
      ]
     },
     "metadata": {},
     "output_type": "display_data"
    },
    {
     "data": {
      "image/png": "[encoded data removed]",
      "text/plain": [
       "<Figure size 640x480 with 1 Axes>"
      ]
     },
     "metadata": {},
     "output_type": "display_data"
    }
   ],
   "source": [
    "plt.hist(dist, bins=range(2**numberOfWires + 1), align='left')\n",
    "plt.xlabel('State')\n",
    "plt.ylabel('Frequency')\n",
    "plt.title('Measurement Distribution: Simulator Ma')\n",
    "plt.show()\n",
    "\n",
    "numberOfWires,initstate,circuitList = ParseCircuit(\"measure.circuit\")\n",
    "probabilities = [abs(x)**2 for x in DiracToVec(RunCircuitMa(numberOfWires,circuitList))]\n",
    "plt.bar(range(len(probabilities)),probabilities)\n",
    "plt.title(\"Probability Distribution\")\n",
    "plt.xlabel('State')\n",
    "plt.ylabel('Probability')\n",
    "plt.show()"
   ]
  },
  {
   "cell_type": "code",
   "execution_count": 33,
   "metadata": {},
   "outputs": [],
   "source": [
    "def SimulatorMb(InputString):\n",
    "    numWires,state,circuitList = ParseCircuit(InputString)\n",
    "    state = np.array(DiracToVec(state)).T\n",
    "    for element in circuitList:\n",
    "        if element[0]=='H':\n",
    "            state = HadamardArray(int(element[1]),numWires) @ state\n",
    "        elif element[0]=='P':\n",
    "            state = PhaseArray(int(element[1]),float(element[2]),numWires) @ state\n",
    "        elif element[0]=='CNOT':\n",
    "            state = CNOTArray(int(element[1]),int(element[2]),numWires) @ state\n",
    "    if element[-1]=='MEASURE':\n",
    "        return Measure(VecToDirac(state.flatten()))\n",
    "    return VecToDirac(state.flatten())"
   ]
  },
  {
   "cell_type": "code",
   "execution_count": 34,
   "metadata": {},
   "outputs": [],
   "source": [
    "dist = []\n",
    "for i in range(1000):\n",
    "    result = SimulatorMb(\"measure.circuit\")\n",
    "    dist.append(int(result, 2))"
   ]
  },
  {
   "cell_type": "code",
   "execution_count": 35,
   "metadata": {},
   "outputs": [
    {
     "data": {
      "image/png": "[encoded data removed]",
      "text/plain": [
       "<Figure size 640x480 with 1 Axes>"
      ]
     },
     "metadata": {},
     "output_type": "display_data"
    },
    {
     "data": {
      "image/png": "[encoded data removed]",
      "text/plain": [
       "<Figure size 640x480 with 1 Axes>"
      ]
     },
     "metadata": {},
     "output_type": "display_data"
    }
   ],
   "source": [
    "numberOfWires, initstate, circuitList = ParseCircuit(\"measure.circuit\")\n",
    "\n",
    "plt.hist(dist, bins=range(2**numberOfWires + 1), align='left')\n",
    "plt.xlabel('State')\n",
    "plt.ylabel('Frequency')\n",
    "plt.title('Measurement Distribution: Simulator Mb')\n",
    "plt.show()\n",
    "\n",
    "probabilities = [abs(x)**2 for x in DiracToVec(RunCircuitMb(numberOfWires, circuitList))]\n",
    "plt.bar(range(len(probabilities)), probabilities)\n",
    "plt.title(\"Probability Distribution\")\n",
    "plt.xlabel('State')\n",
    "plt.ylabel('Probability')\n",
    "plt.show()"
   ]
  },
  {
   "cell_type": "markdown",
   "metadata": {},
   "source": [
    "### Input"
   ]
  },
  {
   "cell_type": "code",
   "execution_count": 36,
   "metadata": {},
   "outputs": [
    {
     "name": "stdout",
     "output_type": "stream",
     "text": [
      "SimulatorS Output:\n",
      "((0.15409919900412572-0.039023142873475775j) |00000> + (-0.02131981307535495+0.08774787414090221j) |00010> + (-0.1480464106395854+0.08745635006745286j) |10000> + (0.11691184507936053+0.013808709741378308j) |10010> + (0.04895105577891031-0.03001851549580141j) |00001> + (-0.1116091892870344-0.23332812293116612j) |00011> + (-0.06328890454391892+0.25662035423302676j) |10001> + (-0.02667646151394929-0.004062838923814427j) |10011> + (-0.033901258348144725-0.009674003342578126j) |00100> + (-0.19592098529914306+0.009885177232733758j) |00110> + (0.21923132553221591-0.21304182634262642j) |10100> + (-0.1479391543721399-0.10481145122901085j) |10110> + (-0.016746063710111725-0.13026586952891356j) |00101> + (-0.09796097290238416+0.013475996833847481j) |00111> + (-0.048941996178234734-0.11635508158684055j) |10101> + (0.2231675743280913+0.05083463296709693j) |10111> + (-0.18082511268453239+0.01438104561772749j) |01000> + (0.0010329113421169653-0.0034553374325645703j) |01010> + (-0.13963947717339315-0.23720129948549148j) |11000> + (-0.2632220901419421-0.06560050732512163j) |11010> + (0.05382740960549368-0.06863464649457765j) |01001> + (-0.02154097912106914+0.01744613535918265j) |01011> + (0.1847507110418059-0.005148336320294392j) |11001> + (0.17519678454879786-0.02010633083183433j) |11011> + (-0.007195884290384175+0.15958103150789765j) |01100> + (-0.03789377980145897+0.005859520326027703j) |01110> + (0.11220121663454645+0.0012498444406552484j) |11100> + (-0.20830028473401127+0.07702445377195208j) |11110> + (-0.22309649987486385+0.0746289884182196j) |01101> + (0.07390340399259629-0.05074229743090867j) |01111> + (0.024190828060211902-0.12445058311966187j) |11101> + (0.05476980548434894+0.3061304395854817j) |11111>)\n",
      "####################################################################################################\n",
      "SimulatorMa Output:\n",
      "((0.15409919900412564-0.03902314287347569j) |00000> + (0.04895105577891031-0.03001851549580145j) |00001> + (-0.02131981307535505+0.08774787414090224j) |00010> + (-0.11160918928703438-0.2333281229311664j) |00011> + (-0.033901258348144725-0.009674003342578133j) |00100> + (-0.016746063710111662-0.1302658695289135j) |00101> + (-0.19592098529914312+0.00988517723273382j) |00110> + (-0.09796097290238423+0.013475996833847606j) |00111> + (-0.18082511268453247+0.014381045617727461j) |01000> + (0.05382740960549385-0.06863464649457768j) |01001> + (0.0010329113421169156-0.003455337432564754j) |01010> + (-0.02154097912106917+0.0174461353591827j) |01011> + (-0.007195884290384112+0.15958103150789782j) |01100> + (-0.2230964998748639+0.07462898841821956j) |01101> + (-0.03789377980145896+0.005859520326027698j) |01110> + (0.07390340399259643-0.05074229743090875j) |01111> + (-0.14804641063958532+0.08745635006745289j) |10000> + (-0.06328890454391903+0.25662035423302676j) |10001> + (0.1169118450793606+0.01380870974137826j) |10010> + (-0.02667646151394927-0.004062838923814441j) |10011> + (0.21923132553221591-0.21304182634262628j) |10100> + (-0.04894199617823476-0.11635508158684055j) |10101> + (-0.14793915437213995-0.10481145122901092j) |10110> + (0.2231675743280914+0.05083463296709695j) |10111> + (-0.13963947717339323-0.23720129948549165j) |11000> + (0.1847507110418059-0.005148336320294478j) |11001> + (-0.2632220901419422-0.06560050732512165j) |11010> + (0.1751967845487979-0.02010633083183444j) |11011> + (0.11220121663454648+0.0012498444406551755j) |11100> + (0.02419082806021188-0.12445058311966194j) |11101> + (-0.20830028473401133+0.07702445377195213j) |11110> + (0.054769805484348955+0.3061304395854817j) |11111>)\n",
      "####################################################################################################\n",
      "SimulatorMb Output:\n",
      "((0.15409919900412572-0.039023142873475775j) |00000> + (0.04895105577891031-0.03001851549580141j) |00001> + (-0.02131981307535495+0.08774787414090221j) |00010> + (-0.1116091892870344-0.23332812293116612j) |00011> + (-0.033901258348144725-0.009674003342578126j) |00100> + (-0.016746063710111725-0.13026586952891356j) |00101> + (-0.19592098529914306+0.009885177232733758j) |00110> + (-0.09796097290238416+0.013475996833847481j) |00111> + (-0.18082511268453239+0.01438104561772749j) |01000> + (0.05382740960549368-0.06863464649457765j) |01001> + (0.0010329113421169653-0.0034553374325645703j) |01010> + (-0.02154097912106914+0.01744613535918265j) |01011> + (-0.007195884290384175+0.15958103150789765j) |01100> + (-0.22309649987486385+0.0746289884182196j) |01101> + (-0.03789377980145897+0.005859520326027703j) |01110> + (0.07390340399259629-0.05074229743090867j) |01111> + (-0.1480464106395854+0.08745635006745286j) |10000> + (-0.06328890454391892+0.25662035423302676j) |10001> + (0.11691184507936053+0.013808709741378308j) |10010> + (-0.02667646151394929-0.004062838923814427j) |10011> + (0.21923132553221591-0.21304182634262642j) |10100> + (-0.048941996178234734-0.11635508158684055j) |10101> + (-0.1479391543721399-0.10481145122901085j) |10110> + (0.2231675743280913+0.05083463296709693j) |10111> + (-0.13963947717339315-0.23720129948549148j) |11000> + (0.1847507110418059-0.005148336320294392j) |11001> + (-0.2632220901419421-0.06560050732512163j) |11010> + (0.17519678454879786-0.02010633083183433j) |11011> + (0.11220121663454645+0.0012498444406552484j) |11100> + (0.024190828060211902-0.12445058311966187j) |11101> + (-0.20830028473401127+0.07702445377195208j) |11110> + (0.05476980548434894+0.3061304395854817j) |11111>)\n"
     ]
    }
   ],
   "source": [
    "print(\"SimulatorS Output:\")\n",
    "PrettyPrintBinary(SimulatorS('input.circuit'))\n",
    "print('#'*100)\n",
    "print(\"SimulatorMa Output:\")\n",
    "PrettyPrintBinary(SimulatorMa('input.circuit'))\n",
    "print('#'*100)\n",
    "print(\"SimulatorMb Output:\")\n",
    "PrettyPrintBinary(SimulatorMb('input.circuit'))"
   ]
  },
  {
   "cell_type": "markdown",
   "metadata": {},
   "source": [
    "# Non-atomic gates\n",
    "## NOT Gate"
   ]
  },
  {
   "cell_type": "code",
   "execution_count": 37,
   "metadata": {},
   "outputs": [
    {
     "name": "stdout",
     "output_type": "stream",
     "text": [
      "((0.9999999999999998-6.123233995736765e-17j) |0> + 6.123233995736765e-17j |1>)\n"
     ]
    }
   ],
   "source": [
    "PrettyPrintBinary(SimulatorS('''\n",
    "1\n",
    "INITSTATE BASIS |1> \n",
    "H 0\n",
    "P 0 3.1415926535897932\n",
    "H 0\n",
    "'''))\n",
    "\n",
    "def compileNOT(wire):\n",
    "    return [\n",
    "        ['H', wire],\n",
    "        ['P', wire, np.pi],\n",
    "        ['H', wire]\n",
    "    ]"
   ]
  },
  {
   "cell_type": "markdown",
   "metadata": {},
   "source": [
    "## $R_z$ Gate"
   ]
  },
  {
   "cell_type": "code",
   "execution_count": 38,
   "metadata": {},
   "outputs": [
    {
     "name": "stdout",
     "output_type": "stream",
     "text": [
      "((-1+1.2246467991473532e-16j) |1>)\n"
     ]
    }
   ],
   "source": [
    "#Z Gate\n",
    "PrettyPrintBinary(SimulatorS('''\n",
    "1\n",
    "INITSTATE BASIS |1>                             \n",
    "P 0 3.1415926535897932\n",
    "'''))\n",
    "\n",
    "def compileZ(wire):\n",
    "    return [\n",
    "        ['P', wire, np.pi]\n",
    "    ]"
   ]
  },
  {
   "cell_type": "code",
   "execution_count": null,
   "metadata": {},
   "outputs": [
    {
     "name": "stdout",
     "output_type": "stream",
     "text": [
      "[['P', 0, 1.5707963267948966], ['H', 0], ['P', 0, 3.141592653589793], ['H', 0], ['P', 0, -1.5707963267948966], ['H', 0], ['P', 0, 3.141592653589793], ['H', 0]]\n",
      "((0.6755249097694092-0.20896434210594814j) |0> + (0.6755249097694092+0.20896434210594814j) |1>)\n"
     ]
    }
   ],
   "source": [
    "#Rz Gate\n",
    "def compileRz(wire, theta):\n",
    "    return [\n",
    "        ['P', wire, theta/2],\n",
    "        *compileNOT(wire),\n",
    "        ['P', wire, -theta/2],\n",
    "        *compileNOT(wire)\n",
    "    ]\n",
    "\n",
    "PrettyPrintBinary(SimulatorS('''\n",
    "1\n",
    "INITSTATE FILE testState.txt                             \n",
    "P 0 0.3\n",
    "H 0\n",
    "P 0 3.1415926535897932\n",
    "H 0\n",
    "P 0 -0.3\n",
    "H 0\n",
    "P 0 3.1415926535897932\n",
    "H 0\n",
    "'''))"
   ]
  },
  {
   "cell_type": "markdown",
   "metadata": {},
   "source": [
    "## Swap Gate"
   ]
  },
  {
   "cell_type": "code",
   "execution_count": 40,
   "metadata": {},
   "outputs": [],
   "source": [
    "def shortSWAP(wire1, wire2):\n",
    "    return [\n",
    "        ['CNOT', wire1, wire2],\n",
    "        ['CNOT', wire2, wire1],\n",
    "        ['CNOT', wire1, wire2]\n",
    "    ]\n",
    "def compileSWAP(wire1, wire2):\n",
    "    if abs(wire1-wire2)==1:\n",
    "        return shortSWAP(wire1,wire2)\n",
    "    else:\n",
    "        if wire1 > wire2:\n",
    "            wire1, wire2 = wire2, wire1\n",
    "        swaps = []\n",
    "        for i in range(wire1, wire2):\n",
    "            swaps.extend(shortSWAP(i, i+1))\n",
    "        for i in range(wire2-1, wire1-1, -1):\n",
    "            swaps.extend(shortSWAP(i, i+1))\n",
    "        return swaps"
   ]
  },
  {
   "cell_type": "markdown",
   "metadata": {},
   "source": [
    "## Long Range CNOT"
   ]
  },
  {
   "cell_type": "code",
   "execution_count": 41,
   "metadata": {},
   "outputs": [],
   "source": [
    "def compileCNOT(controlWire,notWire):\n",
    "    if controlWire==notWire: return []\n",
    "    elif abs(controlWire-notWire)==1: return ['CNOT', controlWire, notWire]\n",
    "    else:\n",
    "        if controlWire==0:\n",
    "            swap = compileSWAP(controlWire+1,notWire)\n",
    "        else:\n",
    "            swap = compileSWAP(controlWire-1,notWire)\n",
    "        return [swap, ['CNOT', controlWire, controlWire+1], swap]\n"
   ]
  },
  {
   "cell_type": "markdown",
   "metadata": {},
   "source": [
    "## Control-$R_Z$ Gate"
   ]
  },
  {
   "cell_type": "code",
   "execution_count": null,
   "metadata": {},
   "outputs": [],
   "source": [
    "def compileCRz(controlWire,phaseWire,theta):\n",
    "    return [\n",
    "        *compileCNOT(controlWire,phaseWire),\n",
    "        ['P', phaseWire, theta],\n",
    "        *compileCNOT(controlWire,phaseWire),\n",
    "    ]"
   ]
  },
  {
   "cell_type": "markdown",
   "metadata": {},
   "source": [
    "## Control-Phase Gate"
   ]
  },
  {
   "cell_type": "code",
   "execution_count": null,
   "metadata": {},
   "outputs": [],
   "source": [
    "def compileCPhase(controlWire,phaseWire,theta):\n",
    "    return [\n",
    "        ['P', phaseWire, theta/2],\n",
    "        *compileCNOT(controlWire,phaseWire),\n",
    "        ['P', phaseWire, -theta/2],\n",
    "        *compileCNOT(controlWire,phaseWire),\n",
    "    ]"
   ]
  },
  {
   "cell_type": "markdown",
   "metadata": {},
   "source": [
    "## Pre-compiling"
   ]
  },
  {
   "cell_type": "code",
   "execution_count": 58,
   "metadata": {},
   "outputs": [],
   "source": [
    "def compileCircuit(circuitList):\n",
    "    compiledCircuit = []\n",
    "    for element in circuitList:\n",
    "        if element[0]=='H' or element[0]=='P':\n",
    "            compiledCircuit.append(element)\n",
    "        elif element[0]=='CNOT':\n",
    "            compiledCircuit.extend(compileCNOT(int(element[1]),int(element[2])))\n",
    "        elif element[0]=='NOT':\n",
    "            compiledCircuit.extend(compileNOT(int(element[1])))\n",
    "        elif element[0]=='Z':\n",
    "            compiledCircuit.extend(compileZ(int(element[1])))\n",
    "        elif element[0]=='Rz':\n",
    "            compiledCircuit.extend(compileRz(int(element[1]),float(element[2])))\n",
    "        elif element[0]=='SWAP':\n",
    "            compiledCircuit.extend(compileSWAP(int(element[1]),int(element[2])))       \n",
    "    return compiledCircuit\n",
    "\n",
    "def ParseCircuit(InputString: str):\n",
    "    if \".circuit\" in InputString:\n",
    "        numWires,circuitList = ReadInputString(open(InputString).read())\n",
    "    else: \n",
    "        numWires,circuitList = ReadInputString(InputString)\n",
    "    initState = [(1.,'0'*numWires)]\n",
    "    if circuitList[0][0]==\"INITSTATE\":\n",
    "        if circuitList[0][1]==\"FILE\":\n",
    "            initState = FileToState(circuitList[0][2])\n",
    "        elif circuitList[0][1]==\"BASIS\":\n",
    "            initState = [(1.,circuitList[0][2][1:-1])]\n",
    "        circuitList = circuitList[1:]\n",
    "    return numWires, initState, compileCircuit(circuitList)"
   ]
  },
  {
   "cell_type": "code",
   "execution_count": 45,
   "metadata": {},
   "outputs": [],
   "source": [
    "def genNonAtomRandCircuit(numWires, numGates):\n",
    "    circuitList = []\n",
    "    for i in range(numGates):\n",
    "        gate = np.random.randint(0, 9)\n",
    "        match gate:\n",
    "            case 0: \n",
    "                gate = 'H'\n",
    "                wire = np.random.randint(0, numWires)\n",
    "                circuitList.append([gate, wire])\n",
    "            case 1: \n",
    "                gate = 'P'\n",
    "                wire = np.random.randint(0, numWires)\n",
    "                theta = np.random.random() * 2 * np.pi\n",
    "                circuitList.append([gate, wire, theta])\n",
    "            case 2:\n",
    "                if numWires < 2: continue \n",
    "                gate = \"CNOT\"\n",
    "                controlWire = np.random.randint(0, numWires)\n",
    "                notWire = np.random.randint(0, numWires)\n",
    "                while notWire==controlWire: notWire = np.random.randint(0, numWires)\n",
    "                circuitList.append([gate, controlWire, notWire])\n",
    "            case 3:\n",
    "                gate = 'NOT'\n",
    "                wire = np.random.randint(0, numWires)\n",
    "                circuitList.append([gate, wire])\n",
    "            case 4:\n",
    "                gate = 'Rz'\n",
    "                wire = np.random.randint(0, numWires)\n",
    "                theta = np.random.random() * 2 * np.pi\n",
    "                circuitList.append([gate, wire, theta])\n",
    "            case 5:\n",
    "                gate = 'Z'\n",
    "                wire = np.random.randint(0, numWires)\n",
    "                circuitList.append([gate,wire])\n",
    "            case 6:\n",
    "                if numWires < 2: continue\n",
    "                gate = 'CRz'\n",
    "                controlWire = np.random.randint(0, numWires)\n",
    "                phaseWire = np.random.randint(0, numWires)\n",
    "                while phaseWire==controlWire : phaseWire = np.random.randint(0, numWires)\n",
    "                circuitList.append([gate, controlWire, phaseWire])\n",
    "            case 7:\n",
    "                if numWires < 2: continue\n",
    "                gate = 'CPhase'\n",
    "                controlWire = np.random.randint(0, numWires)\n",
    "                phaseWire = np.random.randint(0, numWires)\n",
    "                while phaseWire==controlWire : phaseWire = np.random.randint(0, numWires)\n",
    "                theta = np.random.random() * 2 * np.pi\n",
    "                circuitList.append([gate, controlWire, phaseWire, theta])\n",
    "            case 8:\n",
    "                if numWires < 2: continue\n",
    "                gate = 'SWAP'\n",
    "                wire1 = np.random.randint(0, numWires)\n",
    "                wire2 = np.random.randint(0, numWires)\n",
    "                while wire1 == wire2:\n",
    "                    wire2 = np.random.randint(0, numWires)\n",
    "                circuitList.append([gate, wire1, wire2])\n",
    "    return circuitList"
   ]
  },
  {
   "cell_type": "code",
   "execution_count": 46,
   "metadata": {},
   "outputs": [
    {
     "name": "stdout",
     "output_type": "stream",
     "text": [
      "[['NOT', 0], ['H', 3], ['Z', 0], ['CPhase', 0, 1, 1.1424809724304332], ['SWAP', 2, 1], ['H', 2], ['P', 1, 0.7859393701854739], ['Rz', 3, 4.517638356677706], ['NOT', 0], ['CPhase', 1, 0, 1.4507685604740355]]\n",
      "####################################################################################################\n",
      "[['H', 0], ['P', 0, 3.141592653589793], ['H', 0], ['H', 3], ['P', 0, 3.141592653589793], ['CNOT', 2, 1], ['CNOT', 1, 2], ['CNOT', 2, 1], ['H', 2], ['P', 1, 0.7859393701854739], ['P', 3, 2.258819178338853], ['H', 3], ['P', 3, 3.141592653589793], ['H', 3], ['P', 3, -2.258819178338853], ['H', 3], ['P', 3, 3.141592653589793], ['H', 3], ['H', 0], ['P', 0, 3.141592653589793], ['H', 0]]\n"
     ]
    }
   ],
   "source": [
    "X = genNonAtomRandCircuit(4,10)\n",
    "print(X)\n",
    "print('#'*100)\n",
    "print(compileCircuit(X))"
   ]
  },
  {
   "cell_type": "code",
   "execution_count": 62,
   "metadata": {},
   "outputs": [
    {
     "name": "stdout",
     "output_type": "stream",
     "text": [
      "NOT Gate Test:\n",
      "SimulatorS Output:\n",
      "((0.9999999999999998-6.123233995736765e-17j) |0> + 6.123233995736765e-17j |1>)\n",
      "####################################################################################################\n",
      "SimulatorMa Output:\n",
      "((0.9999999999999998-6.123233995736765e-17j) |0> + 6.123233995736765e-17j |1>)\n",
      "####################################################################################################\n",
      "SimulatorMb Output:\n",
      "((0.9999999999999998-6.123233995736765e-17j) |0> + 6.123233995736765e-17j |1>)\n",
      "####################################################################################################\n",
      "Z Gate Test:\n",
      "SimulatorS Output:\n",
      "((-1+1.2246467991473532e-16j) |1>)\n",
      "####################################################################################################\n",
      "SimulatorMa Output:\n",
      "((-1+1.2246467991473532e-16j) |1>)\n",
      "####################################################################################################\n",
      "SimulatorMb Output:\n",
      "((-1+1.2246467991473532e-16j) |1>)\n",
      "####################################################################################################\n",
      "Rz Gate Test:\n",
      "SimulatorS Output:\n",
      "((-1.1102230246251565e-16+1.1102230246251565e-16j) |0> + (0.7071067811882787+0.707106781184816j) |1>)\n",
      "####################################################################################################\n",
      "SimulatorMa Output:\n",
      "((-1.1102230246251565e-16+1.1102230246251565e-16j) |0> + (0.7071067811882787+0.707106781184816j) |1>)\n",
      "####################################################################################################\n",
      "SimulatorMb Output:\n",
      "((-1.1102230246251565e-16+1.1102230246251565e-16j) |0> + (0.7071067811882787+0.707106781184816j) |1>)\n",
      "####################################################################################################\n",
      "SWAP Gate Test:\n",
      "SimulatorS Output:\n",
      "(1.0 |01>)\n",
      "####################################################################################################\n",
      "SimulatorMa Output:\n",
      "((1+0j) |01>)\n",
      "####################################################################################################\n",
      "SimulatorMb Output:\n",
      "(1.0 |01>)\n",
      "####################################################################################################\n",
      "CNOT Gate Test:\n",
      "SimulatorS Output:\n"
     ]
    },
    {
     "ename": "TypeError",
     "evalue": "'int' object is not subscriptable",
     "output_type": "error",
     "traceback": [
      "\u001b[1;31m---------------------------------------------------------------------------\u001b[0m",
      "\u001b[1;31mTypeError\u001b[0m                                 Traceback (most recent call last)",
      "Cell \u001b[1;32mIn[62], line 100\u001b[0m\n\u001b[0;32m     98\u001b[0m \u001b[38;5;28mprint\u001b[39m(\u001b[38;5;124m\"\u001b[39m\u001b[38;5;124mCNOT Gate Test:\u001b[39m\u001b[38;5;124m\"\u001b[39m)\n\u001b[0;32m     99\u001b[0m \u001b[38;5;28mprint\u001b[39m(\u001b[38;5;124m\"\u001b[39m\u001b[38;5;124mSimulatorS Output:\u001b[39m\u001b[38;5;124m\"\u001b[39m)\n\u001b[1;32m--> 100\u001b[0m PrettyPrintBinary(SimulatorS(\u001b[38;5;124m'''\u001b[39m\n\u001b[0;32m    101\u001b[0m \u001b[38;5;124m2\u001b[39m\n\u001b[0;32m    102\u001b[0m \u001b[38;5;124mINITSTATE BASIS |10> \u001b[39m\n\u001b[0;32m    103\u001b[0m \u001b[38;5;124mCNOT 0 1\u001b[39m\n\u001b[0;32m    104\u001b[0m \u001b[38;5;124m'''\u001b[39m))\n\u001b[0;32m    105\u001b[0m \u001b[38;5;28mprint\u001b[39m(\u001b[38;5;124m'\u001b[39m\u001b[38;5;124m#\u001b[39m\u001b[38;5;124m'\u001b[39m\u001b[38;5;241m*\u001b[39m\u001b[38;5;241m100\u001b[39m)\n\u001b[0;32m    106\u001b[0m \u001b[38;5;28mprint\u001b[39m(\u001b[38;5;124m\"\u001b[39m\u001b[38;5;124mSimulatorMa Output:\u001b[39m\u001b[38;5;124m\"\u001b[39m)\n",
      "Cell \u001b[1;32mIn[27], line 4\u001b[0m, in \u001b[0;36mSimulatorS\u001b[1;34m(InputString)\u001b[0m\n\u001b[0;32m      2\u001b[0m numWires,state,circuitList \u001b[38;5;241m=\u001b[39m ParseCircuit(InputString)\n\u001b[0;32m      3\u001b[0m \u001b[38;5;28;01mfor\u001b[39;00m element \u001b[38;5;129;01min\u001b[39;00m circuitList:\n\u001b[1;32m----> 4\u001b[0m     \u001b[38;5;28;01mif\u001b[39;00m element[\u001b[38;5;241m0\u001b[39m]\u001b[38;5;241m==\u001b[39m\u001b[38;5;124m'\u001b[39m\u001b[38;5;124mH\u001b[39m\u001b[38;5;124m'\u001b[39m:\n\u001b[0;32m      5\u001b[0m         state \u001b[38;5;241m=\u001b[39m H(\u001b[38;5;28mint\u001b[39m(element[\u001b[38;5;241m1\u001b[39m]),state)    \n\u001b[0;32m      6\u001b[0m     \u001b[38;5;28;01melif\u001b[39;00m element[\u001b[38;5;241m0\u001b[39m]\u001b[38;5;241m==\u001b[39m\u001b[38;5;124m'\u001b[39m\u001b[38;5;124mP\u001b[39m\u001b[38;5;124m'\u001b[39m:\n",
      "\u001b[1;31mTypeError\u001b[0m: 'int' object is not subscriptable"
     ]
    }
   ],
   "source": [
    "# Test for NOT Gate\n",
    "print(\"NOT Gate Test:\")\n",
    "print(\"SimulatorS Output:\")\n",
    "PrettyPrintBinary(SimulatorS('''\n",
    "1\n",
    "INITSTATE BASIS |1> \n",
    "NOT 0\n",
    "'''))\n",
    "print('#'*100)\n",
    "print(\"SimulatorMa Output:\")\n",
    "PrettyPrintBinary(SimulatorMa('''\n",
    "1\n",
    "INITSTATE BASIS |1> \n",
    "NOT 0\n",
    "'''))\n",
    "print('#'*100)\n",
    "print(\"SimulatorMb Output:\")\n",
    "PrettyPrintBinary(SimulatorMb('''\n",
    "1\n",
    "INITSTATE BASIS |1> \n",
    "NOT 0\n",
    "'''))\n",
    "print('#'*100)\n",
    "\n",
    "# Test for Z Gate\n",
    "print(\"Z Gate Test:\")\n",
    "print(\"SimulatorS Output:\")\n",
    "PrettyPrintBinary(SimulatorS('''\n",
    "1\n",
    "INITSTATE BASIS |1> \n",
    "Z 0\n",
    "'''))\n",
    "print('#'*100)\n",
    "print(\"SimulatorMa Output:\")\n",
    "PrettyPrintBinary(SimulatorMa('''\n",
    "1\n",
    "INITSTATE BASIS |1> \n",
    "Z 0\n",
    "'''))\n",
    "print('#'*100)\n",
    "print(\"SimulatorMb Output:\")\n",
    "PrettyPrintBinary(SimulatorMb('''\n",
    "1\n",
    "INITSTATE BASIS |1> \n",
    "Z 0\n",
    "'''))\n",
    "print('#'*100)\n",
    "\n",
    "# Test for Rz Gate\n",
    "print(\"Rz Gate Test:\")\n",
    "print(\"SimulatorS Output:\")\n",
    "PrettyPrintBinary(SimulatorS('''\n",
    "1\n",
    "INITSTATE BASIS |1> \n",
    "Rz 0 1.57079632679\n",
    "'''))\n",
    "print('#'*100)\n",
    "print(\"SimulatorMa Output:\")\n",
    "PrettyPrintBinary(SimulatorMa('''\n",
    "1\n",
    "INITSTATE BASIS |1> \n",
    "Rz 0 1.57079632679\n",
    "'''))\n",
    "print('#'*100)\n",
    "print(\"SimulatorMb Output:\")\n",
    "PrettyPrintBinary(SimulatorMb('''\n",
    "1\n",
    "INITSTATE BASIS |1> \n",
    "Rz 0 1.57079632679\n",
    "'''))\n",
    "print('#'*100)\n",
    "\n",
    "# Test for SWAP Gate\n",
    "print(\"SWAP Gate Test:\")\n",
    "print(\"SimulatorS Output:\")\n",
    "PrettyPrintBinary(SimulatorS('''\n",
    "2\n",
    "INITSTATE BASIS |10> \n",
    "SWAP 0 1\n",
    "'''))\n",
    "print('#'*100)\n",
    "print(\"SimulatorMa Output:\")\n",
    "PrettyPrintBinary(SimulatorMa('''\n",
    "2\n",
    "INITSTATE BASIS |10> \n",
    "SWAP 0 1\n",
    "'''))\n",
    "print('#'*100)\n",
    "print(\"SimulatorMb Output:\")\n",
    "PrettyPrintBinary(SimulatorMb('''\n",
    "2\n",
    "INITSTATE BASIS |10> \n",
    "SWAP 0 1\n",
    "'''))\n",
    "print('#'*100)\n",
    "\n",
    "# Test for CNOT Gate\n",
    "print(\"CNOT Gate Test:\")\n",
    "print(\"SimulatorS Output:\")\n",
    "PrettyPrintBinary(SimulatorS('''\n",
    "2\n",
    "INITSTATE BASIS |10> \n",
    "CNOT 0 1\n",
    "'''))\n",
    "print('#'*100)\n",
    "print(\"SimulatorMa Output:\")\n",
    "PrettyPrintBinary(SimulatorMa('''\n",
    "2\n",
    "INITSTATE BASIS |10> \n",
    "CNOT 0 1\n",
    "'''))\n",
    "print('#'*100)\n",
    "print(\"SimulatorMb Output:\")\n",
    "PrettyPrintBinary(SimulatorMb('''\n",
    "2\n",
    "INITSTATE BASIS |10> \n",
    "CNOT 0 1\n",
    "'''))\n",
    "print('#'*100)\n",
    "\n",
    "# Test for CRz Gate\n",
    "print(\"CRz Gate Test:\")\n",
    "print(\"SimulatorS Output:\")\n",
    "PrettyPrintBinary(SimulatorS('''\n",
    "2\n",
    "INITSTATE BASIS |10> \n",
    "CRz 0 1 1.57079632679\n",
    "'''))\n",
    "print('#'*100)\n",
    "print(\"SimulatorMa Output:\")\n",
    "PrettyPrintBinary(SimulatorMa('''\n",
    "2\n",
    "INITSTATE BASIS |10> \n",
    "CRz 0 1 1.57079632679\n",
    "'''))\n",
    "print('#'*100)\n",
    "print(\"SimulatorMb Output:\")\n",
    "PrettyPrintBinary(SimulatorMb('''\n",
    "2\n",
    "INITSTATE BASIS |10> \n",
    "CRz 0 1 1.57079632679\n",
    "'''))\n",
    "print('#'*100)\n",
    "\n",
    "# Test for CPhase Gate\n",
    "print(\"CPhase Gate Test:\")\n",
    "print(\"SimulatorS Output:\")\n",
    "PrettyPrintBinary(SimulatorS('''\n",
    "2\n",
    "INITSTATE BASIS |10> \n",
    "CPhase 0 1 1.57079632679\n",
    "'''))\n",
    "print('#'*100)\n",
    "print(\"SimulatorMa Output:\")\n",
    "PrettyPrintBinary(SimulatorMa('''\n",
    "2\n",
    "INITSTATE BASIS |10> \n",
    "CPhase 0 1 1.57079632679\n",
    "'''))\n",
    "print('#'*100)\n",
    "print(\"SimulatorMb Output:\")\n",
    "PrettyPrintBinary(SimulatorMb('''\n",
    "2\n",
    "INITSTATE BASIS |10> \n",
    "CPhase 0 1 1.57079632679\n",
    "'''))\n",
    "print('#'*100)"
   ]
  }
 ],
 "metadata": {
  "kernelspec": {
   "display_name": "base",
   "language": "python",
   "name": "python3"
  },
  "language_info": {
   "codemirror_mode": {
    "name": "ipython",
    "version": 3
   },
   "file_extension": ".py",
   "mimetype": "text/x-python",
   "name": "python",
   "nbconvert_exporter": "python",
   "pygments_lexer": "ipython3",
   "version": "3.12.7"
  }
 },
 "nbformat": 4,
 "nbformat_minor": 2
}

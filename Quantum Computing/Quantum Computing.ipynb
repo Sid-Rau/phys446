{
 "cells": [
  {
   "cell_type": "markdown",
   "metadata": {},
   "source": [
    "# Dirac Notation"
   ]
  },
  {
   "cell_type": "code",
   "execution_count": 2,
   "metadata": {},
   "outputs": [],
   "source": [
    "import numpy as np\n",
    "\n",
    "def PrettyPrintBinary(myState):\n",
    "    output = f'('\n",
    "    for state in myState:\n",
    "        output= output + str(state[0]) + ' |' + state[1] + '> + '\n",
    "    output=output[:-3]+')'\n",
    "    print(output)\n",
    "\n",
    "def PrettyPrintInteger(myState):\n",
    "    output = f'('\n",
    "    for state in myState:\n",
    "        output= output + str(state[0]) + ' |' + str(int(state[1],2)) + '> + '\n",
    "    output=output[:-3]+')'\n",
    "    print(output)"
   ]
  },
  {
   "cell_type": "code",
   "execution_count": 3,
   "metadata": {},
   "outputs": [
    {
     "name": "stdout",
     "output_type": "stream",
     "text": [
      "(0.31622776601683794j |101> + 0.7071067811865476 |000> + -0.6324555320336759 |010>)\n",
      "(0.31622776601683794j |5> + 0.7071067811865476 |0> + -0.6324555320336759 |2>)\n"
     ]
    }
   ],
   "source": [
    "myState2=[\n",
    "  (np.sqrt(0.1)*1.j, '101'),\n",
    "  (np.sqrt(0.5), '000') ,\n",
    "  (-np.sqrt(0.4), '010' )\n",
    "]\n",
    "PrettyPrintBinary(myState2)\n",
    "PrettyPrintInteger(myState2)"
   ]
  },
  {
   "cell_type": "code",
   "execution_count": 4,
   "metadata": {},
   "outputs": [
    {
     "name": "stdout",
     "output_type": "stream",
     "text": [
      "[0.7071067811865476, 0, -0.6324555320336759, 0, 0, 0.31622776601683794j, 0, 0]\n",
      "[(0.7071067811865476, '000'), (-0.6324555320336759, '010'), (0.31622776601683794j, '101')]\n"
     ]
    }
   ],
   "source": [
    "def DiracToVec(myState):\n",
    "    vec = [0] * 2**(len(myState[0][1]))\n",
    "    for state in myState:\n",
    "        idx = int(state[1],2)\n",
    "        vec[idx]=state[0]\n",
    "    return vec\n",
    "\n",
    "def VecToDirac(myVec):\n",
    "    output = []\n",
    "    bin_size = int(np.ceil(np.log2(len(myVec))))\n",
    "    for i,state in enumerate(myVec):\n",
    "        if state != 0:\n",
    "            output.append((state,format(i,f'0{bin_size}b')))    \n",
    "    return output\n",
    "print(DiracToVec(myState2))\n",
    "print(VecToDirac(DiracToVec(myState2)))"
   ]
  },
  {
   "cell_type": "markdown",
   "metadata": {},
   "source": [
    "# Quantum Simulators\n",
    "## Simulator S"
   ]
  },
  {
   "cell_type": "code",
   "execution_count": 5,
   "metadata": {},
   "outputs": [
    {
     "name": "stdout",
     "output_type": "stream",
     "text": [
      "(-0.7071067811865476 |11> + 0.31622776601683794 |00> + 0.6324555320336759 |01>)\n"
     ]
    }
   ],
   "source": [
    "import itertools\n",
    "\n",
    "def AddDuplicate(myState):\n",
    "    seen=dict()\n",
    "    for state in myState:\n",
    "        if state[1] in seen:\n",
    "            seen[state[1]]+=state[0]\n",
    "        else: seen[state[1]]=state[0]\n",
    "    return [(amplitude,state) for (state,amplitude) in list(seen.items()) if amplitude!=0]\n",
    "\n",
    "myState=[\n",
    "  (-np.sqrt(0.125), '11'),\n",
    "  (np.sqrt(0.1), '00'),\n",
    "  (np.sqrt(0.4), '01'),\n",
    "  (-np.sqrt(0.125), '11')\n",
    "]\n",
    "\n",
    "PrettyPrintBinary(AddDuplicate(myState))"
   ]
  },
  {
   "cell_type": "code",
   "execution_count": 6,
   "metadata": {},
   "outputs": [
    {
     "name": "stdout",
     "output_type": "stream",
     "text": [
      "(0.7071067811865475 |0> + 0.7071067811865475 |1>)\n"
     ]
    }
   ],
   "source": [
    "def bitFlip(idx, bitstring):\n",
    "    notState = list(bitstring)\n",
    "    notState[idx] = '1' if bitstring[idx]=='0' else '0'\n",
    "    return ''.join(notState)  \n",
    "\n",
    "def H(wire, inputState):\n",
    "    outputState = [hadamardGate(wire, state) for state in inputState]\n",
    "    return AddDuplicate(list(itertools.chain(*outputState)))\n",
    "def hadamardGate(wire, state):\n",
    "    notState = bitFlip(wire,state[1])\n",
    "    if(state[1][wire]=='0'):\n",
    "        return (1/np.sqrt(2)*state[0], state[1]),(1/np.sqrt(2)*state[0],notState)\n",
    "    else:\n",
    "        return (1/np.sqrt(2)*state[0], notState),(-1/np.sqrt(2)*state[0],state[1])\n",
    "    \n",
    "PrettyPrintBinary(H(0,[(1,'0')]))"
   ]
  },
  {
   "cell_type": "code",
   "execution_count": 7,
   "metadata": {},
   "outputs": [
    {
     "name": "stdout",
     "output_type": "stream",
     "text": [
      "(0.7071067811865475 |0> + (4.329780281177466e-17+0.7071067811865475j) |1>)\n"
     ]
    }
   ],
   "source": [
    "def Phase(wire, theta, inputState):\n",
    "    # Apply phase gate to each state in inputState\n",
    "    return [phaseGate(wire, theta, state) for state in inputState]\n",
    "def phaseGate(wire, theta, state):\n",
    "    return (state[0], state[1]) if state[1][wire] == '0' else (state[0]*np.exp(1j*theta), state[1])\n",
    "\n",
    "PrettyPrintBinary(Phase(0,np.pi/2,[(1/np.sqrt(2),'0'),(1/np.sqrt(2),'1')]))"
   ]
  },
  {
   "cell_type": "code",
   "execution_count": 8,
   "metadata": {},
   "outputs": [
    {
     "name": "stdout",
     "output_type": "stream",
     "text": [
      "(0.5 |00> + 0.5 |01> + 0.31622776601683794 |10> + 0.6324555320336759 |11>)\n",
      "(0.5 |00> + 0.5 |01> + 0.31622776601683794 |11> + 0.6324555320336759 |10>)\n"
     ]
    }
   ],
   "source": [
    "def CNOT(controlWire,notWire,inputState):\n",
    "    return [cnotGate(controlWire,notWire,state) for state in inputState]\n",
    "def cnotGate(controlWire,notWire,state):\n",
    "    return state if state[1][controlWire]=='0' else (state[0],bitFlip(notWire,state[1]))\n",
    "\n",
    "test = [\n",
    "    (np.sqrt(.25),'00'),\n",
    "    (np.sqrt(.25),'01'),\n",
    "    (np.sqrt(.1),'10'),\n",
    "    (np.sqrt(.4),'11')\n",
    "]\n",
    "PrettyPrintBinary(test)\n",
    "PrettyPrintBinary(CNOT(0,1,test))"
   ]
  },
  {
   "cell_type": "code",
   "execution_count": 9,
   "metadata": {},
   "outputs": [],
   "source": [
    "def ReadInputString(myInput_lines):\n",
    "    myInput=[]\n",
    "    myInput_lines=myInput_lines.split('\\n')\n",
    "    myInput_lines = [ i for i in myInput_lines if i!='']\n",
    "    numberOfWires=int(myInput_lines[0])\n",
    "    for line in myInput_lines[1:]:\n",
    "        myInput.append(line.split())\n",
    "    return (numberOfWires,myInput)\n",
    "\n",
    "def RunCircuit(numWires,circuitList):\n",
    "    state = [(1,'0'*numWires)]\n",
    "    for element in circuitList:\n",
    "        if element[0]=='H':\n",
    "            state = H(int(element[1]),state)\n",
    "        elif element[0]=='P':\n",
    "            state = Phase(int(element[1]),float(element[2]),state)\n",
    "        else:\n",
    "            state = CNOT(int(element[1]),int(element[2]),state)\n",
    "    return state\n"
   ]
  },
  {
   "cell_type": "code",
   "execution_count": 10,
   "metadata": {},
   "outputs": [
    {
     "name": "stdout",
     "output_type": "stream",
     "text": [
      "(0.4999999999999999 |0000> + 0.4999999999999999 |0011> + (0.4502235511763384+0.21748276705561506j) |1100> + (0.4502235511763384+0.21748276705561506j) |1111>)\n",
      "Passed example.circuit?:  True\n",
      "Text example:\n",
      "((0.9776682445628027+0.14776010333066972j) |0> + (0.022331755437197065-0.14776010333066972j) |5>)\n"
     ]
    }
   ],
   "source": [
    "numberOfWires,myInput=ReadInputString(open('example.circuit').read())\n",
    "test = RunCircuit(numberOfWires,myInput)\n",
    "PrettyPrintBinary(test)\n",
    "print(\"Passed example.circuit?: \", test==[((0.4999999999999999+0j), '0000'), ((0.4999999999999999+0j), '0011'), ((0.4502235511763384+0.21748276705561506j), '1100'), ((0.4502235511763384+0.21748276705561506j), '1111')])\n",
    "numberOfWires,myInput=ReadInputString('''\n",
    "3\n",
    "H 1\n",
    "H 2\n",
    "P 2 0.3\n",
    "CNOT 2 1\n",
    "H 1\n",
    "H 2\n",
    "CNOT 2 0\n",
    "''')\n",
    "\n",
    "test = RunCircuit(numberOfWires,myInput)\n",
    "print(\"Text example:\")\n",
    "PrettyPrintInteger(test)"
   ]
  },
  {
   "cell_type": "code",
   "execution_count": 11,
   "metadata": {},
   "outputs": [],
   "source": [
    "#TODO: RUN rand.circuit"
   ]
  },
  {
   "cell_type": "markdown",
   "metadata": {},
   "source": [
    "## Simulator M\n",
    "### SImulator M-a"
   ]
  },
  {
   "cell_type": "code",
   "execution_count": 34,
   "metadata": {},
   "outputs": [
    {
     "name": "stdout",
     "output_type": "stream",
     "text": [
      "[[0.]\n",
      " [1.]\n",
      " [6.]\n",
      " [7.]\n",
      " [4.]\n",
      " [5.]\n",
      " [2.]\n",
      " [3.]]\n",
      "[[0.]\n",
      " [1.]\n",
      " [2.]\n",
      " [3.]\n",
      " [6.]\n",
      " [7.]\n",
      " [4.]\n",
      " [5.]]\n"
     ]
    }
   ],
   "source": [
    "def tensorMe(matrices):\n",
    "    result = matrices[0]\n",
    "    for matrix in matrices[1:]:\n",
    "        result = np.kron(result, matrix)\n",
    "    return result\n",
    "\n",
    "def HadamardArray(wire, numWires):\n",
    "    H_matrix = 1/np.sqrt(2)*np.array([[1, 1], [1, -1]])\n",
    "    return tensorMe([np.identity(2)] * (wire-1) + [H_matrix] + [np.identity(2)]*(numWires-wire))\n",
    "\n",
    "def PhaseArray(wire,numWires,theta):\n",
    "    P_matrix = np.array([[1,0],[0,np.exp(theta*1j)]])\n",
    "    return tensorMe([np.identity(2)] * (wire-1) + [P_matrix] + [np.identity(2)]*(numWires-wire))\n",
    "\n",
    "def CNOTArray(controlWire, notWire, numWires):\n",
    "    C_matrix_up = np.array([[1, 0, 0, 0],  # bit 0 is control bit, bit 1 is not bit\n",
    "                            [0, 1, 0, 0],\n",
    "                            [0, 0, 0, 1],\n",
    "                            [0, 0, 1, 0]])\n",
    "    C_matrix_down = np.array([[1, 0, 0, 0],\n",
    "                              [0, 0, 0, 1],\n",
    "                              [0, 0, 1, 0],\n",
    "                              [0, 1, 0, 0]])\n",
    "    if controlWire < notWire:\n",
    "        return tensorMe([np.identity(2)] * controlWire + [C_matrix_up] + [np.identity(2)] * (numWires - controlWire - 2))\n",
    "    else:\n",
    "        return tensorMe([np.identity(2)] * notWire + [C_matrix_down] + [np.identity(2)] * (numWires - notWire - 2))\n",
    "\n",
    "state = np.array([[x] for x in range(8)])\n",
    "\n",
    "print(CNOTArray(1,0,3) @ state)\n",
    "print(CNOTArray(0,1,3) @state)"
   ]
  }
 ],
 "metadata": {
  "kernelspec": {
   "display_name": "base",
   "language": "python",
   "name": "python3"
  },
  "language_info": {
   "codemirror_mode": {
    "name": "ipython",
    "version": 3
   },
   "file_extension": ".py",
   "mimetype": "text/x-python",
   "name": "python",
   "nbconvert_exporter": "python",
   "pygments_lexer": "ipython3",
   "version": "3.12.7"
  }
 },
 "nbformat": 4,
 "nbformat_minor": 2
}
